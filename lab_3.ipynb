{
 "cells": [
  {
   "cell_type": "code",
   "execution_count": null,
   "metadata": {},
   "outputs": [],
   "source": [
    "import pandas as pd\n",
    "import numpy as np\n",
    "import os\n",
    "from sklearn.metrics import mean_squared_error\n",
    "from math import sqrt, isnan\n",
    "from sklearn.preprocessing import MinMaxScaler\n",
    "from tensorflow.keras.models import Sequential\n",
    "from tensorflow.keras.layers import Dense\n",
    "from tensorflow.keras.layers import LSTM\n",
    "from tensorflow.keras.models import load_model\n",
    "import matplotlib.pyplot as plt\n",
    "import matplotlib.ticker as ticker\n",
    "%matplotlib inline\n",
    "pd.set_option('display.max_rows', 500)"
   ]
  },
  {
   "cell_type": "code",
   "execution_count": null,
   "metadata": {},
   "outputs": [],
   "source": [
    "# тут реалізуйте завантаження даних температур за літній місяці у df_summer, де це pandas об'єкт, який ви знаєте з перших двох лаб\n",
    "df = pd.read_csv('Air temperature.csv', names=['dateTime', 'data'], parse_dates=['dateTime'])\n",
    "df = df.set_index(['dateTime'])\n",
    "df_summer = df[df.index.month.isin([6, 7, 8])]\n",
    "plt.plot(df_summer)"
   ]
  },
  {
   "cell_type": "code",
   "execution_count": null,
   "metadata": {},
   "outputs": [],
   "source": [
    "# summer model\n",
    "from sklearn.metrics import mean_squared_error\n",
    "from math import sqrt, isnan\n",
    "# normalize the dataset\n",
    "from sklearn.preprocessing import MinMaxScaler\n",
    "scaler = MinMaxScaler(feature_range=(0, 1))\n",
    "values = np.array(df_summer.data).reshape(-1, 1)\n",
    "scaler.fit(values)\n",
    "df_summer.data = scaler.transform(values)\n",
    "\n",
    "# test for stationarity\n",
    "from statsmodels.tsa.stattools import adfuller\n",
    "\n",
    "result = adfuller(df_summer.data)\n",
    "print('ADF Statistic: %f' % result[0])\n",
    "print('p-value: %f' % result[1])\n",
    "print('Critical Values:')\n",
    "for key, value in result[4].items():\n",
    "    print('\\t%s: %.3f' % (key, value))\n",
    "\n",
    "# spliting time series\n",
    "def train_test_split(data, n_test):\n",
    "    return data[:-n_test], data[-n_test:]\n",
    "\n",
    "def series_to_supervised(data, n_in, n_out=1):\n",
    "    df = pd.DataFrame(data)\n",
    "    cols = list()\n",
    "    for i in range(n_in, 0, -1):\n",
    "        cols.append(df.shift(i))\n",
    "    for i in range(0, n_out):\n",
    "        cols.append(df.shift(-i))\n",
    "    # put it all together\n",
    "    agg = pd.concat(cols, axis=1)\n",
    "    # drop rows with NaN values\n",
    "    agg.dropna(inplace=True)\n",
    "    return agg.values\n",
    "\n",
    "\n",
    "# difference dataset\n",
    "def difference(data, interval):\n",
    "    return [data[i] - data[i - interval] for i in range(interval, len(data))]\n",
    "\n",
    "# root mean squared error or rmse\n",
    "def measure_rmse(actual, predicted):\n",
    "    return sqrt(mean_squared_error(actual, predicted))\n",
    "\n",
    "# walk-forward validation for univariate data\n",
    "def walk_forward_validation(data, n_test, cfg):\n",
    "    predictions = list()\n",
    "    # split dataset\n",
    "    train, test = train_test_split(data, n_test)\n",
    "    # fit model\n",
    "    model, hist = model_fit(train, cfg)\n",
    "       \n",
    "    # seed history with training dataset\n",
    "    history = [x for x in train]\n",
    "    # step over each time step in the test set\n",
    "    for i in range(len(test)):\n",
    "    # fit model and make forecast for history\n",
    "        yhat = model_predict(model, history, cfg)\n",
    "        # store forecast in list of predictions\n",
    "        predictions.append(yhat)\n",
    "        # add actual observation to history for the next loop\n",
    "        history.append(test[i])\n",
    "    # estimate prediction error\n",
    "    if np.isnan(hist.history['loss']).any():\n",
    "        error = -1\n",
    "    else:\n",
    "        error = measure_rmse(test, predictions)\n",
    "\n",
    "    aa=[x for x in range(400)]\n",
    "    plt.plot(aa, test[:400], marker='.', label=\"actual\")\n",
    "    plt.plot(aa, predictions[:400], 'r', label=\"prediction\")\n",
    "    plt.ylabel('Summer Temperature', size=15)\n",
    "    plt.xlabel('Time step', size=15)\n",
    "    plt.legend(['actual', 'predicted'], loc='upper left')\n",
    "\n",
    "    print( ' > %.3f ' % error)\n",
    "    return model, hist, error\n",
    "\n",
    "# repeat evaluation of a config\n",
    "def repeat_evaluate(data, config, n_test, n_repeats=1):\n",
    "    # fit and evaluate the model n times\n",
    "    result = [walk_forward_validation(data, n_test, config) for _ in range(n_repeats)]\n",
    "    return result\n",
    "\n",
    "def summarize_scores(name, scores):\n",
    "    # print a summary\n",
    "    scores_m, score_std = np.mean(scores), np.std(scores)\n",
    "    print( ' %s: %.3f RMSE (+/- %.3f) ' % (name, scores_m, score_std))\n",
    "    # box and whisker plot\n",
    "    plt.boxplot(scores)\n",
    "    plt.show()\n"
   ]
  },
  {
   "cell_type": "code",
   "execution_count": null,
   "metadata": {},
   "outputs": [],
   "source": [
    "# fit a model\n",
    "def model_fit(train, config):\n",
    "    # unpack config\n",
    "    n_input, n_nodes, n_epochs, n_batch, n_diff, n_layers = config\n",
    "    # prepare data\n",
    "    if n_diff > 0:\n",
    "        train = difference(train, n_diff)\n",
    "    data = series_to_supervised(train, n_input)\n",
    "    train_x, train_y = data[:, :-1], data[:, -1]\n",
    "    train_x = train_x.reshape((train_x.shape[0], train_x.shape[1], 1))\n",
    "    # define model\n",
    "    model = Sequential()\n",
    "    if n_layers==2:\n",
    "        model.add(LSTM(n_nodes, activation= 'tanh', input_shape=(n_input, 1), return_sequences=True))\n",
    "        model.add(LSTM(n_nodes, activation= 'tanh'))\n",
    "    else:\n",
    "        model.add(LSTM(n_nodes, activation= 'tanh', input_shape=(n_input, 1)))\n",
    "    model.add(Dense(n_nodes, activation= 'relu'))\n",
    "    model.add(Dense(1))\n",
    "    model.compile(loss='mse', optimizer='adam', metrics=['accuracy'])\n",
    "    # fit\n",
    "    history = model.fit(train_x, train_y, epochs=n_epochs, batch_size=n_batch, verbose=1, \n",
    "                        validation_split=0.2, shuffle=False)\n",
    "    '''\n",
    "    # summarize history \n",
    "    plt.plot(history.history['loss'])\n",
    "    plt.plot(history.history['val_loss'])\n",
    "    plt.ylabel('loss')\n",
    "    plt.xlabel('epoch')\n",
    "    plt.legend(['train', 'validation'], loc='upper left')\n",
    "    '''\n",
    "    return model, history"
   ]
  },
  {
   "cell_type": "code",
   "execution_count": null,
   "metadata": {},
   "outputs": [],
   "source": [
    "# forecast with a pre-fit model\n",
    "def model_predict(model, history, config):\n",
    "    # unpack config\n",
    "    n_input, _, _, _, n_diff, _ = config\n",
    "    # prepare data\n",
    "    correction = 0.0\n",
    "    if n_diff > 0:\n",
    "        correction = history[-n_diff]\n",
    "        history = difference(history, n_diff)\n",
    "    x_input = np.array(history[-n_input:]).reshape((1, n_input, 1))\n",
    "    # forecast\n",
    "    yhat = model.predict(x_input, verbose=0)\n",
    "    return correction + yhat[0]"
   ]
  },
  {
   "cell_type": "code",
   "execution_count": null,
   "metadata": {},
   "outputs": [],
   "source": [
    "# data split\n",
    "n_test = 10*48\n",
    "\n",
    "# define config, model hyperparameters\n",
    "n_input = 210\n",
    "n_nodes = 50\n",
    "n_epochs = 20\n",
    "n_batches = 50\n",
    "n_diff = 0\n",
    "n_layers = 1\n",
    "config = [n_input, n_nodes, n_epochs, n_batches, n_diff, n_layers]"
   ]
  },
  {
   "cell_type": "code",
   "execution_count": null,
   "metadata": {},
   "outputs": [],
   "source": [
    "# run\n",
    "results = repeat_evaluate(df_summer.data.values, config, n_test)"
   ]
  },
  {
   "cell_type": "code",
   "execution_count": null,
   "metadata": {},
   "outputs": [],
   "source": [
    "results"
   ]
  },
  {
   "cell_type": "code",
   "execution_count": null,
   "metadata": {},
   "outputs": [],
   "source": [
    "# save and read trained model\n",
    "results[0][0].save(\"model.h5\")"
   ]
  },
  {
   "cell_type": "code",
   "execution_count": null,
   "metadata": {},
   "outputs": [],
   "source": [
    "# load model\n",
    "model = load_model('model.h5')\n",
    "# summarize model.\n",
    "model.summary()"
   ]
  },
  {
   "cell_type": "code",
   "execution_count": null,
   "metadata": {},
   "outputs": [],
   "source": [
    "# test model\n",
    "def test_model(data=df_summer.data.values, n_test=n_test, model=model, cfg=config):\n",
    "    predictions = list()\n",
    "    # split dataset\n",
    "    train, test = train_test_split(data, n_test)\n",
    "       \n",
    "    # seed history with training dataset\n",
    "    history = [x for x in train]\n",
    "    # step over each time step in the test set\n",
    "    test = test[:100]\n",
    "    for i in range(len(test)):\n",
    "    # fit model and make forecast for history\n",
    "        yhat = model_predict(model, history, cfg)\n",
    "        # store forecast in list of predictions\n",
    "        predictions.append(yhat)\n",
    "        # add actual observation to history for the next loop\n",
    "        history.append(test[i])\n",
    "    # estimate prediction error\n",
    "    aa=[x for x in range(100)]\n",
    "    plt.plot(aa, test, marker='.', label=\"actual\")\n",
    "    plt.plot(aa, predictions, 'r', label=\"prediction\")\n",
    "    plt.ylabel('Summer Temperature', size=15)\n",
    "    plt.xlabel('Time step', size=15)\n",
    "    plt.legend(['actual', 'predicted'], loc='upper left')\n",
    "\n",
    "    error = measure_rmse(test, predictions)\n",
    "    print( ' > %.3f ' % error)\n",
    "    \n",
    "    return error, predictions, test"
   ]
  },
  {
   "cell_type": "code",
   "execution_count": null,
   "metadata": {},
   "outputs": [],
   "source": [
    "error, predictions, test = test_model()"
   ]
  },
  {
   "cell_type": "code",
   "execution_count": null,
   "metadata": {},
   "outputs": [],
   "source": [
    "# OPTIONAL!\n",
    "# how to calculate hyperparameters\n",
    "# create a list of configs to try\n",
    "def model_configs():\n",
    "    # define scope of configs\n",
    "    n_input = [48*7, 48*10, 14*15]\n",
    "    n_nodes = [20, 30, 50, 70, 100]\n",
    "    n_epochs = [20]\n",
    "    n_batch = [10, 30, 50, 70, 100]\n",
    "    # create configs\n",
    "    configs = list()\n",
    "    for i in n_input:\n",
    "        for j in n_nodes:\n",
    "            for k in n_epochs:\n",
    "                for l in n_batch:\n",
    "                    cfg = [i, j, k, l, 0, 1]\n",
    "                    configs.append(cfg)\n",
    "                    \n",
    "    print('Total configs: %d ' % len(configs))\n",
    "    return configs"
   ]
  },
  {
   "cell_type": "code",
   "execution_count": null,
   "metadata": {},
   "outputs": [],
   "source": [
    "cfg_list = model_configs()"
   ]
  },
  {
   "cell_type": "code",
   "execution_count": null,
   "metadata": {},
   "outputs": [],
   "source": [
    "# grid search configs\n",
    "def grid_search(data, cfg_list, n_test):\n",
    "    # evaluate configs\n",
    "    scores = []\n",
    "    for cfg in cfg_list:\n",
    "        scores.append(repeat_evaluate(data, cfg, n_test))\n",
    "    # sort configs by error, asc\n",
    "    scores.sort(key=lambda tup: tup[1])\n",
    "    return scores"
   ]
  },
  {
   "cell_type": "code",
   "execution_count": null,
   "metadata": {},
   "outputs": [],
   "source": [
    "scores = grid_search(df_summer.data.values, cfg_list, n_test)"
   ]
  },
  {
   "cell_type": "code",
   "execution_count": null,
   "metadata": {},
   "outputs": [],
   "source": []
  }
 ],
 "metadata": {
  "kernelspec": {
   "display_name": "lab3",
   "language": "python",
   "name": "lab3"
  },
  "language_info": {
   "codemirror_mode": {
    "name": "ipython",
    "version": 3
   },
   "file_extension": ".py",
   "mimetype": "text/x-python",
   "name": "python",
   "nbconvert_exporter": "python",
   "pygments_lexer": "ipython3",
   "version": "3.7.9"
  }
 },
 "nbformat": 4,
 "nbformat_minor": 4
}
